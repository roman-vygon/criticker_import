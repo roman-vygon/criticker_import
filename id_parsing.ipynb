{
 "cells": [
  {
   "cell_type": "code",
   "execution_count": 4,
   "id": "038a338f",
   "metadata": {},
   "outputs": [],
   "source": [
    "from tqdm import tqdm\n",
    "from bs4 import BeautifulSoup\n",
    "import requests\n",
    "import pickle\n",
    "import pandas as pd\n",
    "\n",
    "from joblib import Parallel, delayed\n",
    "\n",
    "import re\n",
    "payload = {'si_username': 'ElPresidente',\n",
    "               'si_password': '6843102t'}\n",
    "files = []\n",
    "url_auth=\"https://www.criticker.com/authenticate.php\"\n",
    "url_edit = \"https://www.criticker.com/ratings/?\"\n",
    "\n",
    "s = requests.Session()\n",
    "response = s.request(\"POST\", url_auth, data=payload, files=files, allow_redirects=False)\n",
    "def process(row):\n",
    "    try:\n",
    "        html_text = s.get(row.url).text\n",
    "    except:\n",
    "        return None, None\n",
    "    soup = BeautifulSoup(html_text, 'html.parser')\n",
    "    stuff = soup.find(\"div\", class_='crit_container')\n",
    "    if stuff is None:\n",
    "        return None, None\n",
    "    crit_id = stuff.attrs['data-titleid']\n",
    "    imdb_id = re.findall(\"title/tt.*/\", html_text)[0].split('/')[1]\n",
    "\n",
    "    return imdb_id, crit_id"
   ]
  },
  {
   "cell_type": "code",
   "execution_count": 5,
   "id": "71c5fb30",
   "metadata": {},
   "outputs": [
    {
     "name": "stderr",
     "output_type": "stream",
     "text": [
      "100%|█████████████████████████████████████| 12965/12965 [27:46<00:00,  7.78it/s]\n"
     ]
    }
   ],
   "source": [
    "df = pd.read_csv('movies.csv')\n",
    "df = df[df.n_ratings > 115] # remove to process more movies\n",
    "results = Parallel(n_jobs=8)(delayed(process)(row) for idx, row in tqdm(df.iterrows(), total=len(df)))"
   ]
  },
  {
   "cell_type": "code",
   "execution_count": 9,
   "id": "e1d9b42b",
   "metadata": {},
   "outputs": [],
   "source": [
    "films = {}\n",
    "for film in results:\n",
    "    if film[0] is not None:\n",
    "        films[film[0]] = film[1]"
   ]
  },
  {
   "cell_type": "code",
   "execution_count": null,
   "id": "063af0b6",
   "metadata": {},
   "outputs": [],
   "source": [
    "new_films = {\"tt4154756\": 144842,\n",
    "\"tt6285944\": 169133,\n",
    "\"tt15392100\": 201102,\n",
    "\"tt7657566\": 178429,\n",
    "\"tt1160419\": 179798,\n",
    "\"tt3203290\": 93202,\n",
    "\"tt8847712\": 167704,\n",
    "\"tt4244994\": 196554,\n",
    "\"tt0120737\": 1840,\n",
    "\"tt0167260\": 1841,\n",
    "\"tt0167261\": 1842,\n",
    "\"tt10872600\": 202657,\n",
    "\"tt6723592\": 172576,\n",
    "\"tt11291274\": 207140,\n",
    "\"tt11657662\": 198369,\n",
    "\"tt6856242\": 173863,\n",
    "\"tt12361974\": 177935,\n",
    "\"tt9484998\": 167373,\n",
    "\"tt3480822\": 185001,\n",
    "\"tt10919420\": 199929,\n",
    "\"tt9140554\": 192106,\n",
    "\"tt4761112\": 183237,\n",
    "\"tt10539608\": 176333,\n",
    "\"tt1877830\": 201448,\n",
    "\"tt6264654\": 196065,\n",
    "\"tt2382320\": 168984,\n",
    "\"tt1879016\": 215264,\n",
    "\"tt9376612\": 198026,\n",
    "\"tt6334354\": 184382,\n",
    "\"tt6149154\": 162021,\n",
    "\"tt7126948\": 170577,\n",
    "\"tt4154796\": 158692,\n",
    "\"tt7846844\": 174500}\n",
    "films =  {**films, **new_films}"
   ]
  },
  {
   "cell_type": "code",
   "execution_count": 15,
   "id": "8d88a757",
   "metadata": {},
   "outputs": [],
   "source": [
    "with open('all_films.pkl', 'wb') as f:\n",
    "    pickle.dump(films, f)"
   ]
  }
 ],
 "metadata": {
  "kernelspec": {
   "display_name": "Python 3 (ipykernel)",
   "language": "python",
   "name": "python3"
  },
  "language_info": {
   "codemirror_mode": {
    "name": "ipython",
    "version": 3
   },
   "file_extension": ".py",
   "mimetype": "text/x-python",
   "name": "python",
   "nbconvert_exporter": "python",
   "pygments_lexer": "ipython3",
   "version": "3.9.12"
  }
 },
 "nbformat": 4,
 "nbformat_minor": 5
}
